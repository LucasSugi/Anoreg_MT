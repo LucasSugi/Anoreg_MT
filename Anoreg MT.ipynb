{
 "cells": [
  {
   "cell_type": "code",
   "execution_count": null,
   "metadata": {},
   "outputs": [],
   "source": [
    "# Imports\n",
    "from selenium import webdriver\n",
    "from selenium.webdriver.chrome.options import Options\n",
    "import numpy as np\n",
    "import time\n",
    "import re\n",
    "import os\n",
    "import shutil"
   ]
  },
  {
   "cell_type": "code",
   "execution_count": null,
   "metadata": {},
   "outputs": [],
   "source": [
    "# Folders os cpf/cnpjs that already exist\n",
    "folders_cpf_cnpjs = [f for f in os.listdir() if re.match('^[0-9]+$',f)]\n",
    "\n",
    "# List of cpf cnpj to execute\n",
    "l_cpf_cnpj = ['00564427934','45171025991','62194860134','38811855187','80866387153']\n",
    "\n",
    "# Create folder\n",
    "[os.mkdir(c) for c in l_cpf_cnpj if not c in folders_cpf_cnpjs]\n",
    "\n",
    "# Folders os cpf/cnpjs that already exist\n",
    "folders_cpf_cnpjs = [f for f in os.listdir() if re.match('^[0-9]+$',f)]"
   ]
  },
  {
   "cell_type": "code",
   "execution_count": null,
   "metadata": {},
   "outputs": [],
   "source": [
    "# Driver to start chrome\n",
    "options = webdriver.ChromeOptions()\n",
    "options.add_argument(\"start-maximized\")\n",
    "prefs = {\"profile.default_content_settings.popups\": 0,\"download.default_directory\": r\"C:\\Users\\lukin\\Desktop\\Anoregmt\\\\\", \"directory_upgrade\": True, \"plugins.always_open_pdf_externally\": True }\n",
    "options.add_experimental_option(\"prefs\",prefs)\n",
    "driver = webdriver.Chrome(executable_path='C:/Users/lukin/Downloads/chromedriver', options=options)\n",
    "\n",
    "# Get site\n",
    "driver.get('https://app.anoregmt.org.br/#/login')"
   ]
  },
  {
   "cell_type": "code",
   "execution_count": null,
   "metadata": {},
   "outputs": [],
   "source": [
    "# Define credentials\n",
    "user = ''\n",
    "password = ''\n",
    "\n",
    "# Credentials\n",
    "user_we = driver.find_element_by_xpath('/html/body/div[2]/div/div/div/div/div/div[1]/div/main/div[2]/div[2]/div[2]/label[1]/div/div/div/input')\n",
    "user_we.send_keys(user)\n",
    "password_we = driver.find_element_by_xpath('/html/body/div[2]/div/div/div/div/div/div[1]/div/main/div[2]/div[2]/div[2]/label[2]/div/div[1]/div[1]/input')\n",
    "password_we.send_keys(password)\n",
    "\n",
    "# Access page\n",
    "access = driver.find_element_by_xpath('/html/body/div[2]/div/div/div/div/div/div[1]/div/main/div[2]/div[2]/div[3]/div/div[1]/button/span[2]/span')\n",
    "access.click()\n",
    "\n",
    "# Wait 5 seconds\n",
    "time.sleep(5)\n",
    "\n",
    "# Access \"Pesquisa Dinamica\"\n",
    "pesquisa_dinamica = driver.find_element_by_xpath('//*[@id=\"q-app\"]/div/div[1]/aside/div/div[1]/div[1]/div/div[2]/div[3]/div[3]/div')\n",
    "pesquisa_dinamica.click()\n",
    "\n",
    "# Wait 3 seconds\n",
    "time.sleep(3)\n",
    "\n",
    "# Input to cpf/cnpj\n",
    "cpf_cnpj = driver.find_element_by_xpath('/html/body/div[2]/div/div[2]/div/div[2]/div/div/div/label/div/div[1]/div[2]/input')\n",
    "cpf_cnpj.send_keys(l_cpf_cnpj[4])\n",
    "\n",
    "# Click on \"Pesquisar\"\n",
    "pesquisar = driver.find_element_by_xpath('//*[@id=\"q-app\"]/div/div[2]/div/div[2]/div/div/div/label/div/div[1]/div[3]/button/span[2]/span/span')\n",
    "pesquisar.click()"
   ]
  },
  {
   "cell_type": "code",
   "execution_count": null,
   "metadata": {},
   "outputs": [],
   "source": [
    "# Result from search\n",
    "result = driver.find_elements_by_xpath('//*[@id=\"q-app\"]/div/div[2]/div/div[2]/div/div/div/div[1]/div[1]/table/tbody/tr/td[1]')\n",
    "\n",
    "# Result's text\n",
    "result_text = np.array([r.text for r in result])\n",
    "\n",
    "# Index to get the right button position\n",
    "index_result = np.where(result_text == 'Registro de Imóveis')[0]\n",
    "\n",
    "if(len(index_result) != 0):\n",
    "    # Click on \"Registro de Imóveis\"\n",
    "    result[index_result[0]].click()"
   ]
  },
  {
   "cell_type": "code",
   "execution_count": null,
   "metadata": {},
   "outputs": [],
   "source": [
    "# Get Number of pages\n",
    "number_of_pages = driver.find_element_by_xpath('//*[@id=\"q-app\"]/div/div[2]/div/div[2]/div/div/div/div[1]/div[2]/span')\n",
    "number_of_pages = int(number_of_pages.text.split(' ')[2])\n",
    "\n",
    "# Expand all pages\n",
    "for i in range(number_of_pages-1):\n",
    "    \n",
    "    # Scroll down\n",
    "    driver.execute_script(\"window.scrollTo(0, document.body.scrollHeight);\")\n",
    "    \n",
    "    # Click on \"Ver Mais\" to open other registers\n",
    "    ver_mais = driver.find_element_by_xpath('//*[@id=\"q-app\"]/div/div[2]/div/div[2]/div/div/div/div[1]/div[3]/button/span[2]/span/span')\n",
    "    ver_mais.click()\n",
    "    \n",
    "    # Wait 3 seconds\n",
    "    time.sleep(3)\n",
    "    \n",
    "# Result of search\n",
    "result = driver.find_elements_by_xpath('//*[@id=\"q-app\"]/div/div[2]/div/div[2]/div/div/div/div[1]/div[1]/table/tbody/tr/td[1]')\n",
    "\n",
    "# Scroll to the page's start\n",
    "driver.execute_script(\"window.scrollTo(0, 0);\")"
   ]
  },
  {
   "cell_type": "code",
   "execution_count": null,
   "metadata": {},
   "outputs": [],
   "source": [
    "# For each register\n",
    "for i in range(5,20):\n",
    "    try:\n",
    "        # Click to open a window\n",
    "        result[i].click()\n",
    "\n",
    "        # Wait 5 seconds\n",
    "        time.sleep(5)\n",
    "\n",
    "        # Click on button \"visualizar\"\n",
    "        visualizar = driver.find_element_by_xpath('/html/body/div[5]/div[2]/div/div[4]/button[1]/span[2]/span/span')\n",
    "        visualizar.click()\n",
    "\n",
    "        # Wait 5 seconds\n",
    "        time.sleep(5)\n",
    "\n",
    "        if(len(driver.window_handles) > 1):\n",
    "            # Switch to new tab created\n",
    "            driver.switch_to.window(driver.window_handles[-1])\n",
    "\n",
    "            # Close this new tab\n",
    "            driver.close()\n",
    "\n",
    "            # Back to original tab\n",
    "            driver.switch_to.window(driver.window_handles[0])\n",
    "\n",
    "        # Click on \"X\" button\n",
    "        exit_btn = driver.find_element_by_xpath('/html/body/div[5]/div[2]/div/div[1]/button/span[2]/span/i')\n",
    "        exit_btn.click()\n",
    "\n",
    "        # Scroll to next element\n",
    "        driver.execute_script(\"arguments[0].scrollIntoView(true);\", result[i]);\n",
    "\n",
    "        # Wait 3 seconds\n",
    "        time.sleep(3)\n",
    "    except:\n",
    "        time.sleep(5)\n",
    "        print(i)"
   ]
  },
  {
   "cell_type": "code",
   "execution_count": null,
   "metadata": {},
   "outputs": [],
   "source": [
    "# Move downloaded pdf to right folder\n",
    "pdfs = [f for f in os.listdir() if re.match('^.*\\.pdf',f)]\n",
    "for p in pdfs:\n",
    "    shutil.move(os.getcwd() + '\\\\' + p,os.getcwd() + '\\\\' + l_cpf_cnpj[4] + '\\\\' + p)"
   ]
  }
 ],
 "metadata": {
  "kernelspec": {
   "display_name": "Python 3",
   "language": "python",
   "name": "python3"
  },
  "language_info": {
   "codemirror_mode": {
    "name": "ipython",
    "version": 3
   },
   "file_extension": ".py",
   "mimetype": "text/x-python",
   "name": "python",
   "nbconvert_exporter": "python",
   "pygments_lexer": "ipython3",
   "version": "3.7.6"
  }
 },
 "nbformat": 4,
 "nbformat_minor": 4
}
